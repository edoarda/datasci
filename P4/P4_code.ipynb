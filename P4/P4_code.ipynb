{
  "nbformat": 4,
  "nbformat_minor": 0,
  "metadata": {
    "colab": {
      "name": "P4_Original_Work_do_not_Steal.ipynb",
      "provenance": [],
      "collapsed_sections": [
        "ptORyOF7NvDS"
      ]
    },
    "kernelspec": {
      "name": "python3",
      "display_name": "Python 3"
    },
    "language_info": {
      "name": "python"
    },
    "accelerator": "GPU",
    "widgets": {
      "application/vnd.jupyter.widget-state+json": {
        "ecd2f5cb83594bb28f771b4236edca2d": {
          "model_module": "@jupyter-widgets/controls",
          "model_name": "HBoxModel",
          "model_module_version": "1.5.0",
          "state": {
            "_dom_classes": [],
            "_model_module": "@jupyter-widgets/controls",
            "_model_module_version": "1.5.0",
            "_model_name": "HBoxModel",
            "_view_count": null,
            "_view_module": "@jupyter-widgets/controls",
            "_view_module_version": "1.5.0",
            "_view_name": "HBoxView",
            "box_style": "",
            "children": [
              "IPY_MODEL_07004a524de64573ba428d303783f911",
              "IPY_MODEL_4d3d3e4a97d644bb96097bb1837bf9e0",
              "IPY_MODEL_57364ea581974088b85b6bb773c2703f"
            ],
            "layout": "IPY_MODEL_17307ac9c6604fb3ab130aee067a24af"
          }
        },
        "07004a524de64573ba428d303783f911": {
          "model_module": "@jupyter-widgets/controls",
          "model_name": "HTMLModel",
          "model_module_version": "1.5.0",
          "state": {
            "_dom_classes": [],
            "_model_module": "@jupyter-widgets/controls",
            "_model_module_version": "1.5.0",
            "_model_name": "HTMLModel",
            "_view_count": null,
            "_view_module": "@jupyter-widgets/controls",
            "_view_module_version": "1.5.0",
            "_view_name": "HTMLView",
            "description": "",
            "description_tooltip": null,
            "layout": "IPY_MODEL_bf2b1e4a1e7946ce80590833d0315237",
            "placeholder": "​",
            "style": "IPY_MODEL_b155771c495c4b1c9bad3c29193d8801",
            "value": "100%"
          }
        },
        "4d3d3e4a97d644bb96097bb1837bf9e0": {
          "model_module": "@jupyter-widgets/controls",
          "model_name": "FloatProgressModel",
          "model_module_version": "1.5.0",
          "state": {
            "_dom_classes": [],
            "_model_module": "@jupyter-widgets/controls",
            "_model_module_version": "1.5.0",
            "_model_name": "FloatProgressModel",
            "_view_count": null,
            "_view_module": "@jupyter-widgets/controls",
            "_view_module_version": "1.5.0",
            "_view_name": "ProgressView",
            "bar_style": "success",
            "description": "",
            "description_tooltip": null,
            "layout": "IPY_MODEL_caf85309312847a796a7eb222528e9f8",
            "max": 46830571,
            "min": 0,
            "orientation": "horizontal",
            "style": "IPY_MODEL_8fe6c444ce604adf946fa7fb23ad73de",
            "value": 46830571
          }
        },
        "57364ea581974088b85b6bb773c2703f": {
          "model_module": "@jupyter-widgets/controls",
          "model_name": "HTMLModel",
          "model_module_version": "1.5.0",
          "state": {
            "_dom_classes": [],
            "_model_module": "@jupyter-widgets/controls",
            "_model_module_version": "1.5.0",
            "_model_name": "HTMLModel",
            "_view_count": null,
            "_view_module": "@jupyter-widgets/controls",
            "_view_module_version": "1.5.0",
            "_view_name": "HTMLView",
            "description": "",
            "description_tooltip": null,
            "layout": "IPY_MODEL_310c1041b5aa43db8f8eca5d2ae3aac7",
            "placeholder": "​",
            "style": "IPY_MODEL_99f4f8ff61d04c4490dc879b4e2aedba",
            "value": " 44.7M/44.7M [00:01&lt;00:00, 24.9MB/s]"
          }
        },
        "17307ac9c6604fb3ab130aee067a24af": {
          "model_module": "@jupyter-widgets/base",
          "model_name": "LayoutModel",
          "model_module_version": "1.2.0",
          "state": {
            "_model_module": "@jupyter-widgets/base",
            "_model_module_version": "1.2.0",
            "_model_name": "LayoutModel",
            "_view_count": null,
            "_view_module": "@jupyter-widgets/base",
            "_view_module_version": "1.2.0",
            "_view_name": "LayoutView",
            "align_content": null,
            "align_items": null,
            "align_self": null,
            "border": null,
            "bottom": null,
            "display": null,
            "flex": null,
            "flex_flow": null,
            "grid_area": null,
            "grid_auto_columns": null,
            "grid_auto_flow": null,
            "grid_auto_rows": null,
            "grid_column": null,
            "grid_gap": null,
            "grid_row": null,
            "grid_template_areas": null,
            "grid_template_columns": null,
            "grid_template_rows": null,
            "height": null,
            "justify_content": null,
            "justify_items": null,
            "left": null,
            "margin": null,
            "max_height": null,
            "max_width": null,
            "min_height": null,
            "min_width": null,
            "object_fit": null,
            "object_position": null,
            "order": null,
            "overflow": null,
            "overflow_x": null,
            "overflow_y": null,
            "padding": null,
            "right": null,
            "top": null,
            "visibility": null,
            "width": null
          }
        },
        "bf2b1e4a1e7946ce80590833d0315237": {
          "model_module": "@jupyter-widgets/base",
          "model_name": "LayoutModel",
          "model_module_version": "1.2.0",
          "state": {
            "_model_module": "@jupyter-widgets/base",
            "_model_module_version": "1.2.0",
            "_model_name": "LayoutModel",
            "_view_count": null,
            "_view_module": "@jupyter-widgets/base",
            "_view_module_version": "1.2.0",
            "_view_name": "LayoutView",
            "align_content": null,
            "align_items": null,
            "align_self": null,
            "border": null,
            "bottom": null,
            "display": null,
            "flex": null,
            "flex_flow": null,
            "grid_area": null,
            "grid_auto_columns": null,
            "grid_auto_flow": null,
            "grid_auto_rows": null,
            "grid_column": null,
            "grid_gap": null,
            "grid_row": null,
            "grid_template_areas": null,
            "grid_template_columns": null,
            "grid_template_rows": null,
            "height": null,
            "justify_content": null,
            "justify_items": null,
            "left": null,
            "margin": null,
            "max_height": null,
            "max_width": null,
            "min_height": null,
            "min_width": null,
            "object_fit": null,
            "object_position": null,
            "order": null,
            "overflow": null,
            "overflow_x": null,
            "overflow_y": null,
            "padding": null,
            "right": null,
            "top": null,
            "visibility": null,
            "width": null
          }
        },
        "b155771c495c4b1c9bad3c29193d8801": {
          "model_module": "@jupyter-widgets/controls",
          "model_name": "DescriptionStyleModel",
          "model_module_version": "1.5.0",
          "state": {
            "_model_module": "@jupyter-widgets/controls",
            "_model_module_version": "1.5.0",
            "_model_name": "DescriptionStyleModel",
            "_view_count": null,
            "_view_module": "@jupyter-widgets/base",
            "_view_module_version": "1.2.0",
            "_view_name": "StyleView",
            "description_width": ""
          }
        },
        "caf85309312847a796a7eb222528e9f8": {
          "model_module": "@jupyter-widgets/base",
          "model_name": "LayoutModel",
          "model_module_version": "1.2.0",
          "state": {
            "_model_module": "@jupyter-widgets/base",
            "_model_module_version": "1.2.0",
            "_model_name": "LayoutModel",
            "_view_count": null,
            "_view_module": "@jupyter-widgets/base",
            "_view_module_version": "1.2.0",
            "_view_name": "LayoutView",
            "align_content": null,
            "align_items": null,
            "align_self": null,
            "border": null,
            "bottom": null,
            "display": null,
            "flex": null,
            "flex_flow": null,
            "grid_area": null,
            "grid_auto_columns": null,
            "grid_auto_flow": null,
            "grid_auto_rows": null,
            "grid_column": null,
            "grid_gap": null,
            "grid_row": null,
            "grid_template_areas": null,
            "grid_template_columns": null,
            "grid_template_rows": null,
            "height": null,
            "justify_content": null,
            "justify_items": null,
            "left": null,
            "margin": null,
            "max_height": null,
            "max_width": null,
            "min_height": null,
            "min_width": null,
            "object_fit": null,
            "object_position": null,
            "order": null,
            "overflow": null,
            "overflow_x": null,
            "overflow_y": null,
            "padding": null,
            "right": null,
            "top": null,
            "visibility": null,
            "width": null
          }
        },
        "8fe6c444ce604adf946fa7fb23ad73de": {
          "model_module": "@jupyter-widgets/controls",
          "model_name": "ProgressStyleModel",
          "model_module_version": "1.5.0",
          "state": {
            "_model_module": "@jupyter-widgets/controls",
            "_model_module_version": "1.5.0",
            "_model_name": "ProgressStyleModel",
            "_view_count": null,
            "_view_module": "@jupyter-widgets/base",
            "_view_module_version": "1.2.0",
            "_view_name": "StyleView",
            "bar_color": null,
            "description_width": ""
          }
        },
        "310c1041b5aa43db8f8eca5d2ae3aac7": {
          "model_module": "@jupyter-widgets/base",
          "model_name": "LayoutModel",
          "model_module_version": "1.2.0",
          "state": {
            "_model_module": "@jupyter-widgets/base",
            "_model_module_version": "1.2.0",
            "_model_name": "LayoutModel",
            "_view_count": null,
            "_view_module": "@jupyter-widgets/base",
            "_view_module_version": "1.2.0",
            "_view_name": "LayoutView",
            "align_content": null,
            "align_items": null,
            "align_self": null,
            "border": null,
            "bottom": null,
            "display": null,
            "flex": null,
            "flex_flow": null,
            "grid_area": null,
            "grid_auto_columns": null,
            "grid_auto_flow": null,
            "grid_auto_rows": null,
            "grid_column": null,
            "grid_gap": null,
            "grid_row": null,
            "grid_template_areas": null,
            "grid_template_columns": null,
            "grid_template_rows": null,
            "height": null,
            "justify_content": null,
            "justify_items": null,
            "left": null,
            "margin": null,
            "max_height": null,
            "max_width": null,
            "min_height": null,
            "min_width": null,
            "object_fit": null,
            "object_position": null,
            "order": null,
            "overflow": null,
            "overflow_x": null,
            "overflow_y": null,
            "padding": null,
            "right": null,
            "top": null,
            "visibility": null,
            "width": null
          }
        },
        "99f4f8ff61d04c4490dc879b4e2aedba": {
          "model_module": "@jupyter-widgets/controls",
          "model_name": "DescriptionStyleModel",
          "model_module_version": "1.5.0",
          "state": {
            "_model_module": "@jupyter-widgets/controls",
            "_model_module_version": "1.5.0",
            "_model_name": "DescriptionStyleModel",
            "_view_count": null,
            "_view_module": "@jupyter-widgets/base",
            "_view_module_version": "1.2.0",
            "_view_name": "StyleView",
            "description_width": ""
          }
        }
      }
    }
  },
  "cells": [
    {
      "cell_type": "markdown",
      "metadata": {
        "id": "-0uu-BII1hEz"
      },
      "source": [
        "# Brain WML classification using Deep Learning"
      ]
    },
    {
      "cell_type": "markdown",
      "metadata": {
        "id": "RqK2VSuUSOkr"
      },
      "source": [
        "Nesta atividade, o objetivo, mais uma vez, é classificar imagens de ressonância magnética com lesões em imagens de lesões isquêmicas (*AVC*) e imagens com lesões desmielinizantes (*EM*). Vamos continuar usando as imagens fornecidas como fatias (imagens 2D).\n",
        "\n",
        "Em contraste com a atividade da semana passada, usaremos uma rede neural convolucional (CNN) para a classificação. Ou seja, diferentemente do *pipeline* de classificação tradicional, os atributos serão extraídos pela própria CNN e não teremos que nos preocupar com isso.\n",
        "\n",
        "Este notebook mostra como se faz para carregar as imagens, descrever a CNN a ser usada, treinar e predizer. O treinamento mostrado não trata os dados antes de inseri-los na rede nem utiliza as técnicas mais avançadas de Deep Learning, como *data augmentation* e *transfer learning*. A ideia é que você explore estes passos adicionais, tentando melhorar a acurácia de classificação.\n"
      ]
    },
    {
      "cell_type": "code",
      "metadata": {
        "colab": {
          "base_uri": "https://localhost:8080/"
        },
        "id": "ZuzagY1D1gfC",
        "outputId": "9a673312-5e76-4c60-b711-093b67599e67"
      },
      "source": [
        "# Imports\n",
        "\n",
        "# import the needed libs\n",
        "\n",
        "from __future__ import print_function, division\n",
        "\n",
        "import matplotlib.pyplot as plt\n",
        "\n",
        "import torch\n",
        "import torch.nn as nn\n",
        "import torch.optim as optim\n",
        "from torch.optim import lr_scheduler\n",
        "import numpy as np\n",
        "import torchvision\n",
        "from torchvision import datasets, models, transforms\n",
        "from torchsummary import summary\n",
        "import time\n",
        "import os\n",
        "import copy\n",
        "from sklearn.metrics import confusion_matrix\n",
        "import glob, os\n",
        "\n",
        "plt.ion()   # interactive mode\n",
        "\n",
        "# connect drive\n",
        "from google.colab import drive\n",
        "drive.mount('/content/gdrive')\n",
        "\n",
        "!ls 'gdrive/MyDrive/2022.1_datasci4health/Data_P4_DL/'"
      ],
      "execution_count": null,
      "outputs": [
        {
          "output_type": "stream",
          "name": "stdout",
          "text": [
            "Mounted at /content/gdrive\n",
            "ls: cannot access 'gdrive/MyDrive/2022.1_datasci4health/Data_P4_DL/': No such file or directory\n"
          ]
        }
      ]
    },
    {
      "cell_type": "markdown",
      "source": [
        "## TODO:\n",
        "- [ ] Separar aleatoriamente o /Train em test e val, no esquema da professora\n",
        "  * Tudo é separado em AVC e EM\n",
        "- [ ] Rodar isso e ver o que acontece\n",
        "- [ ] Aplicar alguma transformação (flip aleatorio e talvez algum realce? queria fazer o entortar, mas acho que vai gastar muito tempo que eu não tenho."
      ],
      "metadata": {
        "id": "ptORyOF7NvDS"
      }
    },
    {
      "cell_type": "markdown",
      "metadata": {
        "id": "KzMb9jK71vuD"
      },
      "source": [
        "## **Parte 1 - Carregando os dados (imagens e rótulos) usando o DataLoader**\n",
        "\n",
        "Normalmente treinamento de CNNs pressupõe o uso de conjuntos de dados muito grandes. O carregamento destes conjuntos de dados em um NB pode dar bastante trabalho e causar problemas, como falta de memória, dentre outros. Para isso, costumamos usar um *dataloader*, especificamente desenvolvido para isso. Para mais informações sobre *dataloader* consulte o [link](https://pytorch.org/docs/stable/data.html#torch.utils.data.DataLoader).\n",
        "\n",
        "**Pre-processamento dos dados e Data Augmentation**\n",
        "\n",
        "As tranformações que queremos fazer nos dados precisam ser definidas antes de chamar o DataLoader. Assim, quando ele carrega os dados, já aplica as transformações desejadas. Você verá que a única transformação que está sendo feita é um redimensionamento das imagens (transform.Resize). Isso é feito pois a CNN só consegue lidar com imagens de treinamento do mesmo tamanho. As outras linhas comentadas da parte do código que faz as transformações dos dados podem ser usadas e modificadas, como forma de fazer um aumento de dados e assim, ajudar no treino. Consulte a documentação sobre *transforms* do Pytorch: https://pytorch.org/vision/stable/transforms.html.\n",
        "\n",
        "**ATENÇÃO**\n",
        "Se você escolheu aplicar alguma transformação (por ex: *resize*, *normalize*)com o intuito de pre-processamentos, você deve aplicá-la a todos os conjuntos (**train, val, test**). Porém, se você escolheu uma transformação (por ex: *RandomHorizontalFlip*) como forma de aumento de dados, ela deve ser aplicada somente ao conjunto de treinamento (**train**) e, de preferência, de forma aleatória."
      ]
    },
    {
      "cell_type": "code",
      "source": [
        "## Por os conjuntos no lugar certo?\n",
        "## Ideia: Estou pegando os arquivos do Train da P3 (com lesões isquêmicas e desmielinizantes)\n",
        "## e separando aleatoriamente entre teste, train e val, no mesmo esquema do subconjunto dado pela prof.\n",
        "\n",
        "## Clean up, in case I messed up\n",
        "!rm -rf 'gdrive/MyDrive/P4/'\n",
        "!cp -r 'gdrive/MyDrive/Train/' 'gdrive/MyDrive/P4/'\n",
        "# Smooth operator\n",
        "!mkdir 'gdrive/MyDrive/P4/train'\n",
        "\n",
        "!mv 'gdrive/MyDrive/P4/AVC' 'gdrive/MyDrive/P4/train/AVC'\n",
        "!mv 'gdrive/MyDrive/P4/EM' 'gdrive/MyDrive/P4/train/EM'\n",
        "\n",
        "for f in glob.glob(\"gdrive/MyDrive/P4/train/EM/*_mask*\"):\n",
        "    os.remove(f)\n",
        "\n",
        "for f in glob.glob(\"gdrive/MyDrive/P4/train/AVC/*_mask*\"):\n",
        "    os.remove(f)\n",
        "\n",
        "#!set +f\n",
        "#!rm \"gdrive/MyDrive/P4/train/AVC\"/*\"_mask.bmp\"\n",
        "\n",
        "!ls 'gdrive/MyDrive/P4/'\n",
        "\n",
        "!mkdir -p 'gdrive/MyDrive/P4/test/AVC'\n",
        "!mkdir -p 'gdrive/MyDrive/P4/test/EM'\n",
        "\n",
        "!mkdir -p 'gdrive/MyDrive/P4/val/AVC'\n",
        "!mkdir -p 'gdrive/MyDrive/P4/val/EM'\n",
        "\n",
        "!ls 'gdrive/MyDrive/P4/train/AVC' | wc -l\n",
        "## 2056 files, 1475 after mask removal\n",
        "## 20% de 2056: 294\n",
        "## 10% de 2056: 147\n",
        "\n",
        "!ls 'gdrive/MyDrive/P4/train/AVC' | shuf -n 294 | xargs -i mv 'gdrive/MyDrive/P4/train/AVC/'{} 'gdrive/MyDrive/P4/test/AVC'\n",
        "!ls 'gdrive/MyDrive/P4/train/AVC' | shuf -n 147 | xargs -i mv 'gdrive/MyDrive/P4/train/AVC/'{} 'gdrive/MyDrive/P4/val/AVC'\n",
        "\n",
        "!ls 'gdrive/MyDrive/P4/test/AVC' | wc -l\n",
        "!ls 'gdrive/MyDrive/P4/val/AVC' | wc -l\n",
        "\n",
        "!ls 'gdrive/MyDrive/P4/train/EM' | wc -l\n",
        "## 2974 files, 2344 after\n",
        "## 20% de 2947: 588 468\n",
        "## 10% de 2947: 294 234\n",
        "\n",
        "!ls 'gdrive/MyDrive/P4/train/EM' | shuf -n 468 | xargs -i mv 'gdrive/MyDrive/P4/train/EM/'{} 'gdrive/MyDrive/P4/test/EM'\n",
        "!ls 'gdrive/MyDrive/P4/train/EM' | shuf -n 234 | xargs -i mv 'gdrive/MyDrive/P4/train/EM/'{} 'gdrive/MyDrive/P4/val/EM'\n",
        "\n",
        "!ls 'gdrive/MyDrive/P4/test/EM' | wc -l\n",
        "!ls 'gdrive/MyDrive/P4/val/EM' | wc -l"
      ],
      "metadata": {
        "colab": {
          "base_uri": "https://localhost:8080/",
          "height": 306
        },
        "id": "Lra4lhgaApI6",
        "outputId": "fd7271ef-3343-40e3-b917-6ec20b6e7749"
      },
      "execution_count": null,
      "outputs": [
        {
          "output_type": "stream",
          "name": "stdout",
          "text": [
            "cp: cannot stat 'gdrive/MyDrive/Train/': No such file or directory\n",
            "mkdir: cannot create directory ‘gdrive/MyDrive/P4/train’: No such file or directory\n",
            "mv: cannot stat 'gdrive/MyDrive/P4/AVC': No such file or directory\n",
            "mv: cannot stat 'gdrive/MyDrive/P4/EM': No such file or directory\n"
          ]
        },
        {
          "output_type": "error",
          "ename": "NameError",
          "evalue": "ignored",
          "traceback": [
            "\u001b[0;31m---------------------------------------------------------------------------\u001b[0m",
            "\u001b[0;31mNameError\u001b[0m                                 Traceback (most recent call last)",
            "\u001b[0;32m<ipython-input-1-66cb9803a0ce>\u001b[0m in \u001b[0;36m<module>\u001b[0;34m()\u001b[0m\n\u001b[1;32m     12\u001b[0m \u001b[0mget_ipython\u001b[0m\u001b[0;34m(\u001b[0m\u001b[0;34m)\u001b[0m\u001b[0;34m.\u001b[0m\u001b[0msystem\u001b[0m\u001b[0;34m(\u001b[0m\u001b[0;34m\"mv 'gdrive/MyDrive/P4/EM' 'gdrive/MyDrive/P4/train/EM'\"\u001b[0m\u001b[0;34m)\u001b[0m\u001b[0;34m\u001b[0m\u001b[0;34m\u001b[0m\u001b[0m\n\u001b[1;32m     13\u001b[0m \u001b[0;34m\u001b[0m\u001b[0m\n\u001b[0;32m---> 14\u001b[0;31m \u001b[0;32mfor\u001b[0m \u001b[0mf\u001b[0m \u001b[0;32min\u001b[0m \u001b[0mglob\u001b[0m\u001b[0;34m.\u001b[0m\u001b[0mglob\u001b[0m\u001b[0;34m(\u001b[0m\u001b[0;34m\"gdrive/MyDrive/P4/train/EM/*_mask*\"\u001b[0m\u001b[0;34m)\u001b[0m\u001b[0;34m:\u001b[0m\u001b[0;34m\u001b[0m\u001b[0;34m\u001b[0m\u001b[0m\n\u001b[0m\u001b[1;32m     15\u001b[0m     \u001b[0mos\u001b[0m\u001b[0;34m.\u001b[0m\u001b[0mremove\u001b[0m\u001b[0;34m(\u001b[0m\u001b[0mf\u001b[0m\u001b[0;34m)\u001b[0m\u001b[0;34m\u001b[0m\u001b[0;34m\u001b[0m\u001b[0m\n\u001b[1;32m     16\u001b[0m \u001b[0;34m\u001b[0m\u001b[0m\n",
            "\u001b[0;31mNameError\u001b[0m: name 'glob' is not defined"
          ]
        }
      ]
    },
    {
      "cell_type": "code",
      "source": [
        "'''\n",
        "#!rm -rf 'gdrive/MyDrive/P4/SLE'\n",
        "# nao funciona, nao rodar.\n",
        "!cp -r --no-preserve=mode,ownership 'gdrive/MyDrive/SLE' 'gdrive/MyDrive/P4/'\n",
        "!ls 'gdrive/MyDrive/P4/'\n",
        "!ls 'gdrive/MyDrive/P4/SLE' | wc -l\n",
        "\n",
        "for f in glob.glob(\"gdrive/MyDrive/P4/SLE/*_mask.png\"):\n",
        "    print(f)\n",
        "    os.remove(f)\n",
        "'''"
      ],
      "metadata": {
        "colab": {
          "base_uri": "https://localhost:8080/",
          "height": 71
        },
        "id": "DH51Vp3MRnTR",
        "outputId": "79006bb0-c757-4322-b39b-9a962a3ca513"
      },
      "execution_count": null,
      "outputs": [
        {
          "output_type": "execute_result",
          "data": {
            "text/plain": [
              "'\\n#!rm -rf \\'gdrive/MyDrive/P4/SLE\\'\\n# nao funciona, nao rodar.\\n!cp -r --no-preserve=mode,ownership \\'gdrive/MyDrive/SLE\\' \\'gdrive/MyDrive/P4/\\'\\n!ls \\'gdrive/MyDrive/P4/\\'\\n!ls \\'gdrive/MyDrive/P4/SLE\\' | wc -l\\n\\nfor f in glob.glob(\"gdrive/MyDrive/P4/SLE/*_mask.png\"):\\n    print(f)\\n    os.remove(f)\\n'"
            ],
            "application/vnd.google.colaboratory.intrinsic+json": {
              "type": "string"
            }
          },
          "metadata": {},
          "execution_count": 3
        }
      ]
    },
    {
      "cell_type": "code",
      "metadata": {
        "id": "RPaZ-QAVjOPM"
      },
      "source": [
        "# Data augmentation and normalization for training\n",
        "\n",
        "data_transforms = {\n",
        "    'train': transforms.Compose([\n",
        "        transforms.Resize((170,170)),\n",
        "        transforms.RandomHorizontalFlip(),\n",
        "        transforms.RandomRotation(5),\n",
        "        #transforms.Normalize(0, 1),\n",
        "        transforms.ToTensor(),\n",
        "        transforms.Normalize(0.5, 0.5),\n",
        "    ]),\n",
        "    'val': transforms.Compose([\n",
        "        transforms.Resize((170,170)),\n",
        "        #transforms.RandomHorizontalFlip(),\n",
        "        #transforms.RandomRotation(5),\n",
        "        #transforms.Normalize(0, 1),\n",
        "        transforms.ToTensor(),\n",
        "        transforms.Normalize(0.5, 0.5),\n",
        "    ]),\n",
        "    'test': transforms.Compose([\n",
        "        transforms.Resize((170,170)),\n",
        "        #transforms.Normalize(0, 1),\n",
        "        transforms.ToTensor(),\n",
        "        transforms.Normalize(0.5, 0.5),\n",
        "    ]),\n",
        "}\n",
        "\n",
        "data_dir = 'gdrive/MyDrive/P4/'\n",
        "image_datasets = {x: datasets.ImageFolder(os.path.join(data_dir, x), data_transforms[x]) for x in ['train', 'val', 'test']}\n",
        "\n",
        "#Loading the datasets\n",
        "dataloaders = {x: torch.utils.data.DataLoader(image_datasets[x], batch_size=24, shuffle=True, num_workers=2) for x in ['train', 'val', 'test']}\n",
        "\n",
        "dataset_sizes = {x: len(image_datasets[x]) for x in ['train', 'val', 'test']}\n",
        "class_names = image_datasets['train'].classes\n",
        "\n",
        "device = torch.device(\"cuda:0\" if torch.cuda.is_available() else \"cpu\")\n",
        "device"
      ],
      "execution_count": null,
      "outputs": []
    },
    {
      "cell_type": "markdown",
      "metadata": {
        "id": "IxDgCo4M1zOr"
      },
      "source": [
        "## **Visualizando algumas imagens (one batch)**\n",
        "\n",
        "Muitas vezes treinamos uam rede neural em *batches*, quer dizer, separamos o conjunto de treino em sub-conjuntos menores. Se temos um conjunto de treino de M amostras, podemos ter M *batches* de tamanho 1 amostra até 1 *batch* de M amostras."
      ]
    },
    {
      "cell_type": "code",
      "metadata": {
        "colab": {
          "base_uri": "https://localhost:8080/",
          "height": 869
        },
        "id": "NMqpJzDW11Hd",
        "outputId": "afd79f87-d85e-4310-90cd-49fd4bb601ad"
      },
      "source": [
        "#visualize\n",
        "def imshow(inp, title=None):\n",
        "    \"\"\"Imshow for Tensor.\"\"\"\n",
        "    inp = inp.numpy().transpose((1, 2, 0))\n",
        "    plt.imshow(inp)\n",
        "    if title is not None:\n",
        "        plt.title(title)\n",
        "    plt.pause(0.001)  # pause a bit so that plots are updated\n",
        "\n",
        "\n",
        "print('Batch of training data')\n",
        "inputs, classes = next(iter(dataloaders['train']))\n",
        "# Make a grid from batch\n",
        "out = torchvision.utils.make_grid(inputs)\n",
        "\n",
        "imshow(out, title=[class_names[x] for x in classes])\n",
        "print('min = ', np.min(inputs.numpy()))\n",
        "print('median = ', np.median(inputs.numpy()))\n",
        "print('mean = ', np.mean(inputs.numpy()))\n",
        "print('max = ', np.max(inputs.numpy()))\n",
        "\n",
        "\n",
        "print('Batch of validation data')\n",
        "inputs, classes = next(iter(dataloaders['val']))\n",
        "# Make a grid from batch\n",
        "out = torchvision.utils.make_grid(inputs)\n",
        "\n",
        "imshow(out, title=[class_names[x] for x in classes])\n",
        "print('min = ', np.min(inputs.numpy()))\n",
        "print('median = ', np.median(inputs.numpy()))\n",
        "print('mean = ', np.mean(inputs.numpy()))\n",
        "print('max = ', np.max(inputs.numpy()))\n",
        "\n",
        "print('Batch of test data')\n",
        "inputs, classes = next(iter(dataloaders['test']))\n",
        "# Make a grid from batch\n",
        "out = torchvision.utils.make_grid(inputs)\n",
        "\n",
        "imshow(out, title=[class_names[x] for x in classes])\n",
        "print('min = ', np.min(inputs.numpy()))\n",
        "print('median = ', np.median(inputs.numpy()))\n",
        "print('mean = ', np.mean(inputs.numpy()))\n",
        "print('max = ', np.max(inputs.numpy()))"
      ],
      "execution_count": null,
      "outputs": [
        {
          "output_type": "stream",
          "name": "stdout",
          "text": [
            "Batch of training data\n"
          ]
        },
        {
          "output_type": "stream",
          "name": "stderr",
          "text": [
            "Clipping input data to the valid range for imshow with RGB data ([0..1] for floats or [0..255] for integers).\n"
          ]
        },
        {
          "output_type": "display_data",
          "data": {
            "text/plain": [
              "<Figure size 432x288 with 1 Axes>"
            ],
            "image/png": "[encoded data removed]"
          },
          "metadata": {
            "needs_background": "light"
          }
        },
        {
          "output_type": "stream",
          "name": "stdout",
          "text": [
            "min =  -1.0\n",
            "median =  -1.0\n",
            "mean =  -0.70128965\n",
            "max =  0.99215686\n",
            "Batch of validation data\n"
          ]
        },
        {
          "output_type": "stream",
          "name": "stderr",
          "text": [
            "Clipping input data to the valid range for imshow with RGB data ([0..1] for floats or [0..255] for integers).\n"
          ]
        },
        {
          "output_type": "display_data",
          "data": {
            "text/plain": [
              "<Figure size 432x288 with 1 Axes>"
            ],
            "image/png": "[encoded data removed]"
          },
          "metadata": {
            "needs_background": "light"
          }
        },
        {
          "output_type": "stream",
          "name": "stdout",
          "text": [
            "min =  -1.0\n",
            "median =  -1.0\n",
            "mean =  -0.69006103\n",
            "max =  0.99215686\n",
            "Batch of test data\n"
          ]
        },
        {
          "output_type": "stream",
          "name": "stderr",
          "text": [
            "Clipping input data to the valid range for imshow with RGB data ([0..1] for floats or [0..255] for integers).\n"
          ]
        },
        {
          "output_type": "display_data",
          "data": {
            "text/plain": [
              "<Figure size 432x288 with 1 Axes>"
            ],
            "image/png": "[encoded data removed]"
          },
          "metadata": {
            "needs_background": "light"
          }
        },
        {
          "output_type": "stream",
          "name": "stdout",
          "text": [
            "min =  -1.0\n",
            "median =  -1.0\n",
            "mean =  -0.67627174\n",
            "max =  0.99215686\n"
          ]
        }
      ]
    },
    {
      "cell_type": "markdown",
      "metadata": {
        "id": "s3ZQ490a13JT"
      },
      "source": [
        "# Training"
      ]
    },
    {
      "cell_type": "markdown",
      "metadata": {
        "id": "gvvvkILZ8TTv"
      },
      "source": [
        "Defining trainer"
      ]
    },
    {
      "cell_type": "code",
      "metadata": {
        "id": "YOw_93p414mo"
      },
      "source": [
        "def train_model(model, criterion, optimizer, scheduler, num_epochs=25):\n",
        "    since = time.time()\n",
        "\n",
        "    best_model_wts = copy.deepcopy(model.state_dict())\n",
        "    torch.save(model.state_dict(), 'gdrive/MyDrive/P4/model.model')\n",
        "    best_acc = 0.0\n",
        "\n",
        "    for epoch in range(num_epochs):\n",
        "        print('Epoch {}/{}'.format(epoch, num_epochs - 1))\n",
        "        print('-' * 10)\n",
        "\n",
        "        # Each epoch has a training and validation phase\n",
        "        for phase in ['train', 'val']:\n",
        "            if phase == 'train':\n",
        "                model.train()  # Set model to training mode\n",
        "            else:\n",
        "                model.eval()   # Set model to evaluate mode\n",
        "\n",
        "            running_loss = 0.0\n",
        "            running_corrects = 0\n",
        "\n",
        "            # Iterate over data.\n",
        "            for inputs, labels in dataloaders[phase]:\n",
        "                inputs = inputs.to(device)\n",
        "                labels = labels.to(device)\n",
        "\n",
        "                # zero the parameter gradients\n",
        "                optimizer.zero_grad()\n",
        "\n",
        "                # forward\n",
        "                # track history if only in train\n",
        "                with torch.set_grad_enabled(phase == 'train'):\n",
        "                    outputs = model(inputs)\n",
        "                    _, preds = torch.max(outputs, 1)\n",
        "                    loss = criterion(outputs, labels)\n",
        "\n",
        "                    # backward + optimize only if in training phase\n",
        "                    if phase == 'train':\n",
        "                        loss.backward()\n",
        "                        optimizer.step()\n",
        "\n",
        "                # statistics\n",
        "                running_loss += loss.item() * inputs.size(0)\n",
        "                running_corrects += torch.sum(preds == labels.data)\n",
        "            if phase == 'train':\n",
        "                scheduler.step()\n",
        "\n",
        "            epoch_loss = running_loss / dataset_sizes[phase]\n",
        "            epoch_acc = running_corrects.double() / dataset_sizes[phase]\n",
        "\n",
        "            print('{} Loss: {:.4f} Acc: {:.4f}'.format(\n",
        "                phase, epoch_loss, epoch_acc))\n",
        "\n",
        "            # deep copy the model\n",
        "            if phase == 'val' and epoch_acc > best_acc:\n",
        "                best_acc = epoch_acc\n",
        "                best_model_wts = copy.deepcopy(model.state_dict())\n",
        "                torch.save(model.state_dict(), 'gdrive/MyDrive/P4/model.model')\n",
        "                \n",
        "            if phase == 'train':\n",
        "                LOSS_train.append(epoch_loss)\n",
        "                ACC_train.append(epoch_acc)\n",
        "            if phase == 'val':\n",
        "                LOSS_val.append(epoch_loss)\n",
        "                ACC_val.append(epoch_acc)\n",
        "        \n",
        "        print()\n",
        "\n",
        "    time_elapsed = time.time() - since\n",
        "    print('Training complete in {:.0f}m {:.0f}s'.format(\n",
        "        time_elapsed // 60, time_elapsed % 60))\n",
        "    print('Best val Acc: {:4f}'.format(best_acc))\n",
        "\n",
        "    # load best model weights\n",
        "    model.load_state_dict(best_model_wts)\n",
        "    return model\n"
      ],
      "execution_count": null,
      "outputs": []
    },
    {
      "cell_type": "markdown",
      "metadata": {
        "id": "It44_AZ7_rXA"
      },
      "source": [
        "Define training parameters. The chosen architecture is a ResNet18 and it can be used pretrained or not."
      ]
    },
    {
      "cell_type": "code",
      "metadata": {
        "id": "WjPlPpZk-qCX",
        "colab": {
          "base_uri": "https://localhost:8080/",
          "height": 86,
          "referenced_widgets": [
            "ecd2f5cb83594bb28f771b4236edca2d",
            "07004a524de64573ba428d303783f911",
            "4d3d3e4a97d644bb96097bb1837bf9e0",
            "57364ea581974088b85b6bb773c2703f",
            "17307ac9c6604fb3ab130aee067a24af",
            "bf2b1e4a1e7946ce80590833d0315237",
            "b155771c495c4b1c9bad3c29193d8801",
            "caf85309312847a796a7eb222528e9f8",
            "8fe6c444ce604adf946fa7fb23ad73de",
            "310c1041b5aa43db8f8eca5d2ae3aac7",
            "99f4f8ff61d04c4490dc879b4e2aedba"
          ]
        },
        "outputId": "6bc8c0c5-ffc5-4cca-f2f2-76b35998aef5"
      },
      "source": [
        "device = torch.device(\"cuda:0\" if torch.cuda.is_available() else \"cpu\")\n",
        "#device\n",
        "\n",
        "model = models.resnet18(pretrained=True)\n",
        "num_ftrs = model.fc.in_features\n",
        "# Here the size of each output sample is set to 2 (number of classes).\n",
        "# Alternatively, it can be generalized to nn.Linear(num_ftrs, len(class_names)).\n",
        "model.fc = nn.Linear(num_ftrs, 2)\n",
        "\n",
        "model = model.to(device) #send the model to GPU if it is available or CPU otherwise\n",
        "\n",
        "criterion = nn.CrossEntropyLoss()\n",
        "\n",
        "# Observe that all parameters are being optimized\n",
        "# optimizer_ft = optim.SGD(model.parameters(), lr=0.001, momentum=0.9)\n",
        "# optimizer_ft_randstart = optim.SGD(model.parameters(), lr=0.0008, momentum=0.9)\n",
        "# optimizer_ft_randstart = optim.SGD(model.parameters(), lr=0.0001, momentum=0.9)\n",
        "optimizer_ft_randstart = optim.SGD(model.parameters(), lr=0.00005, momentum=0.9)\n",
        "# optimizer_ft_randstart = optim.SGD(model.parameters(), lr=0.000005, momentum=0.9)\n",
        "\n",
        "# Decay LR by a factor of \"gamma\" every \"step_size\" epochs\n",
        "# https://pytorch.org/docs/stable/optim.html\n",
        "exp_lr_scheduler = lr_scheduler.StepLR(optimizer_ft_randstart, step_size=100, gamma=0.5)"
      ],
      "execution_count": null,
      "outputs": [
        {
          "output_type": "stream",
          "name": "stderr",
          "text": [
            "Downloading: \"https://download.pytorch.org/models/resnet18-f37072fd.pth\" to /root/.cache/torch/hub/checkpoints/resnet18-f37072fd.pth\n"
          ]
        },
        {
          "output_type": "display_data",
          "data": {
            "text/plain": [
              "  0%|          | 0.00/44.7M [00:00<?, ?B/s]"
            ],
            "application/vnd.jupyter.widget-view+json": {
              "version_major": 2,
              "version_minor": 0,
              "model_id": "ecd2f5cb83594bb28f771b4236edca2d"
            }
          },
          "metadata": {}
        }
      ]
    },
    {
      "cell_type": "code",
      "metadata": {
        "colab": {
          "base_uri": "https://localhost:8080/"
        },
        "id": "qLPs0zDDAlot",
        "outputId": "655bc546-c572-4135-a988-a8f5004430b5"
      },
      "source": [
        "# print(model) # show CNN architecture\n",
        "\n",
        "summary(model, (3, 170, 170)) # summarize the model "
      ],
      "execution_count": null,
      "outputs": [
        {
          "output_type": "stream",
          "name": "stdout",
          "text": [
            "----------------------------------------------------------------\n",
            "        Layer (type)               Output Shape         Param #\n",
            "================================================================\n",
            "            Conv2d-1           [-1, 64, 85, 85]           9,408\n",
            "       BatchNorm2d-2           [-1, 64, 85, 85]             128\n",
            "              ReLU-3           [-1, 64, 85, 85]               0\n",
            "         MaxPool2d-4           [-1, 64, 43, 43]               0\n",
            "            Conv2d-5           [-1, 64, 43, 43]          36,864\n",
            "       BatchNorm2d-6           [-1, 64, 43, 43]             128\n",
            "              ReLU-7           [-1, 64, 43, 43]               0\n",
            "            Conv2d-8           [-1, 64, 43, 43]          36,864\n",
            "       BatchNorm2d-9           [-1, 64, 43, 43]             128\n",
            "             ReLU-10           [-1, 64, 43, 43]               0\n",
            "       BasicBlock-11           [-1, 64, 43, 43]               0\n",
            "           Conv2d-12           [-1, 64, 43, 43]          36,864\n",
            "      BatchNorm2d-13           [-1, 64, 43, 43]             128\n",
            "             ReLU-14           [-1, 64, 43, 43]               0\n",
            "           Conv2d-15           [-1, 64, 43, 43]          36,864\n",
            "      BatchNorm2d-16           [-1, 64, 43, 43]             128\n",
            "             ReLU-17           [-1, 64, 43, 43]               0\n",
            "       BasicBlock-18           [-1, 64, 43, 43]               0\n",
            "           Conv2d-19          [-1, 128, 22, 22]          73,728\n",
            "      BatchNorm2d-20          [-1, 128, 22, 22]             256\n",
            "             ReLU-21          [-1, 128, 22, 22]               0\n",
            "           Conv2d-22          [-1, 128, 22, 22]         147,456\n",
            "      BatchNorm2d-23          [-1, 128, 22, 22]             256\n",
            "           Conv2d-24          [-1, 128, 22, 22]           8,192\n",
            "      BatchNorm2d-25          [-1, 128, 22, 22]             256\n",
            "             ReLU-26          [-1, 128, 22, 22]               0\n",
            "       BasicBlock-27          [-1, 128, 22, 22]               0\n",
            "           Conv2d-28          [-1, 128, 22, 22]         147,456\n",
            "      BatchNorm2d-29          [-1, 128, 22, 22]             256\n",
            "             ReLU-30          [-1, 128, 22, 22]               0\n",
            "           Conv2d-31          [-1, 128, 22, 22]         147,456\n",
            "      BatchNorm2d-32          [-1, 128, 22, 22]             256\n",
            "             ReLU-33          [-1, 128, 22, 22]               0\n",
            "       BasicBlock-34          [-1, 128, 22, 22]               0\n",
            "           Conv2d-35          [-1, 256, 11, 11]         294,912\n",
            "      BatchNorm2d-36          [-1, 256, 11, 11]             512\n",
            "             ReLU-37          [-1, 256, 11, 11]               0\n",
            "           Conv2d-38          [-1, 256, 11, 11]         589,824\n",
            "      BatchNorm2d-39          [-1, 256, 11, 11]             512\n",
            "           Conv2d-40          [-1, 256, 11, 11]          32,768\n",
            "      BatchNorm2d-41          [-1, 256, 11, 11]             512\n",
            "             ReLU-42          [-1, 256, 11, 11]               0\n",
            "       BasicBlock-43          [-1, 256, 11, 11]               0\n",
            "           Conv2d-44          [-1, 256, 11, 11]         589,824\n",
            "      BatchNorm2d-45          [-1, 256, 11, 11]             512\n",
            "             ReLU-46          [-1, 256, 11, 11]               0\n",
            "           Conv2d-47          [-1, 256, 11, 11]         589,824\n",
            "      BatchNorm2d-48          [-1, 256, 11, 11]             512\n",
            "             ReLU-49          [-1, 256, 11, 11]               0\n",
            "       BasicBlock-50          [-1, 256, 11, 11]               0\n",
            "           Conv2d-51            [-1, 512, 6, 6]       1,179,648\n",
            "      BatchNorm2d-52            [-1, 512, 6, 6]           1,024\n",
            "             ReLU-53            [-1, 512, 6, 6]               0\n",
            "           Conv2d-54            [-1, 512, 6, 6]       2,359,296\n",
            "      BatchNorm2d-55            [-1, 512, 6, 6]           1,024\n",
            "           Conv2d-56            [-1, 512, 6, 6]         131,072\n",
            "      BatchNorm2d-57            [-1, 512, 6, 6]           1,024\n",
            "             ReLU-58            [-1, 512, 6, 6]               0\n",
            "       BasicBlock-59            [-1, 512, 6, 6]               0\n",
            "           Conv2d-60            [-1, 512, 6, 6]       2,359,296\n",
            "      BatchNorm2d-61            [-1, 512, 6, 6]           1,024\n",
            "             ReLU-62            [-1, 512, 6, 6]               0\n",
            "           Conv2d-63            [-1, 512, 6, 6]       2,359,296\n",
            "      BatchNorm2d-64            [-1, 512, 6, 6]           1,024\n",
            "             ReLU-65            [-1, 512, 6, 6]               0\n",
            "       BasicBlock-66            [-1, 512, 6, 6]               0\n",
            "AdaptiveAvgPool2d-67            [-1, 512, 1, 1]               0\n",
            "           Linear-68                    [-1, 2]           1,026\n",
            "================================================================\n",
            "Total params: 11,177,538\n",
            "Trainable params: 11,177,538\n",
            "Non-trainable params: 0\n",
            "----------------------------------------------------------------\n",
            "Input size (MB): 0.33\n",
            "Forward/backward pass size (MB): 37.72\n",
            "Params size (MB): 42.64\n",
            "Estimated Total Size (MB): 80.69\n",
            "----------------------------------------------------------------\n"
          ]
        }
      ]
    },
    {
      "cell_type": "markdown",
      "metadata": {
        "id": "XsnFLv6RFOkL"
      },
      "source": [
        "Start training"
      ]
    },
    {
      "cell_type": "code",
      "metadata": {
        "colab": {
          "base_uri": "https://localhost:8080/"
        },
        "id": "obZ9GxjrAtT0",
        "outputId": "5bf97b11-d139-4981-ad77-aeaa2ffa9483"
      },
      "source": [
        "LOSS_train = []\n",
        "LOSS_val = []\n",
        "ACC_train = []\n",
        "ACC_val = []\n",
        "\n",
        "# model = train_model(model, criterion, optimizer_ft_randstart, exp_lr_scheduler,\n",
        "#                        num_epochs=200)\n",
        "model = train_model(model, criterion, optimizer_ft_randstart, exp_lr_scheduler,\n",
        "                       num_epochs=10)"
      ],
      "execution_count": null,
      "outputs": [
        {
          "output_type": "stream",
          "name": "stdout",
          "text": [
            "Epoch 0/9\n",
            "----------\n",
            "train Loss: 0.5126 Acc: 0.7601\n",
            "val Loss: 0.3869 Acc: 0.8478\n",
            "\n",
            "Epoch 1/9\n",
            "----------\n",
            "train Loss: 0.3383 Acc: 0.8711\n",
            "val Loss: 0.3007 Acc: 0.8740\n",
            "\n",
            "Epoch 2/9\n",
            "----------\n",
            "train Loss: 0.2822 Acc: 0.8976\n",
            "val Loss: 0.2545 Acc: 0.9055\n",
            "\n",
            "Epoch 3/9\n",
            "----------\n",
            "train Loss: 0.2525 Acc: 0.9107\n",
            "val Loss: 0.2343 Acc: 0.8871\n",
            "\n",
            "Epoch 4/9\n",
            "----------\n",
            "train Loss: 0.2356 Acc: 0.9084\n",
            "val Loss: 0.2229 Acc: 0.8950\n",
            "\n",
            "Epoch 5/9\n",
            "----------\n"
          ]
        }
      ]
    },
    {
      "cell_type": "markdown",
      "metadata": {
        "id": "0HZejyCCFVZL"
      },
      "source": [
        "Show training"
      ]
    },
    {
      "cell_type": "markdown",
      "metadata": {
        "id": "2eJUbsiPEnDc"
      },
      "source": [
        "Visualizing the model predictions for test group"
      ]
    },
    {
      "cell_type": "code",
      "metadata": {
        "id": "PwQFEcsMHMnk"
      },
      "source": [
        "def predic_model(model, plot_img = False, num_images=24):\n",
        "    was_training = model.training\n",
        "    model.eval()\n",
        "    images_so_far = 0\n",
        "    PREDICTED = []\n",
        "    LABEL = []\n",
        "\n",
        "    with torch.no_grad():\n",
        "        for i, (inputs, labels) in enumerate(dataloaders['test']):\n",
        "            inputs = inputs.to(device)\n",
        "            labels = labels.to(device)\n",
        "\n",
        "            outputs = model(inputs)\n",
        "            _, preds = torch.max(outputs, 1)\n",
        "\n",
        "            for j in range(inputs.size()[0]):\n",
        "              images_so_far += 1\n",
        "              PREDICTED.append(class_names[preds[j]])\n",
        "              LABEL.append(class_names[labels[j]])\n",
        "              if plot_img:\n",
        "                plt.figure()\n",
        "                plt.imshow(inputs.cpu().data[j].numpy().transpose((1, 2, 0)))\n",
        "                plt.axis('off')\n",
        "                plt.title('predicted: {} - label: {}'.format(class_names[preds[j]], class_names[labels[j]]))\n",
        "                plt.plot()\n",
        "\n",
        "              if images_so_far == num_images:\n",
        "                model.train(mode=was_training)\n",
        "                # break\n",
        "                return PREDICTED, LABEL\n",
        "\n",
        "        model.train(mode=was_training)\n",
        "\n",
        "    return PREDICTED, LABEL"
      ],
      "execution_count": null,
      "outputs": []
    },
    {
      "cell_type": "code",
      "metadata": {
        "id": "dmOEHtcrEp8-"
      },
      "source": [
        "test_group_len = 468\n",
        "PREDICTED, LABEL = predic_model(model, plot_img = False, num_images=test_group_len)\n",
        "#model = model.load_state_dict(torch.load('gdrive/MyDrive/P4/model.model'))"
      ],
      "execution_count": null,
      "outputs": []
    },
    {
      "cell_type": "code",
      "metadata": {
        "id": "stEJVGOiFleT"
      },
      "source": [
        "test_AVC_size = len([x for x in range(len(LABEL)) if LABEL[x] == 'AVC'])\n",
        "test_EM_size = len([x for x in range(len(LABEL)) if LABEL[x] == 'EM'])\n",
        "\n",
        "print('\\n Conjunto de Teste \\n')\n",
        "CM_test = confusion_matrix(LABEL, PREDICTED)\n",
        "Sensibilidade = CM_test[1,1]/test_EM_size # Sensibilidade: é a razão entre as imagens com EM classificadas corretamente e o total de imagens com EM (Verdadeiros positivos ÷ EM)\n",
        "Especificidade = CM_test[0,0]/test_AVC_size # Especificidade: é a razão entre as imagens com AVC classificadas corretamente e o total de imagens com AVC (Verdadeiros negativos ÷ AVC)\n",
        "print('labels = ', LABEL)\n",
        "print('predições = ', PREDICTED)\n",
        "print('matriz de confusão = \\n', CM_test)\n",
        "print('Sensibilidade = ', Sensibilidade)\n",
        "print('Especificidade = ', Especificidade)\n",
        "print('acc = ', len([x for x in range(len(LABEL)) if LABEL[x] == PREDICTED[x]])/test_group_len)\n",
        "\n"
      ],
      "execution_count": null,
      "outputs": []
    },
    {
      "cell_type": "code",
      "metadata": {
        "id": "OoSgwptUVM3Q"
      },
      "source": [
        "# rodar validacao e SCM pra decidir as coisas\n",
        "# decisoes ate agora: testado resnet101 e 50, melhor vai ser 50 (nao foi) 18 pre treinada?\n",
        "# para aumentar os dados, horizontal flip (para simular diferentes lugares de lesao) e \n",
        "# angulacao aleatoria de 5 graus, para simular posicoes erradas da cabeça"
      ],
      "execution_count": null,
      "outputs": []
    },
    {
      "cell_type": "code",
      "source": [
        "from torch.autograd import Variable\n",
        "\n",
        "transformed_img = transforms.Compose([\n",
        "                    transforms.Resize((170,170)),\n",
        "                    #transforms.Normalize(0, 1),\n",
        "                    transforms.ToTensor(),\n",
        "                    transforms.Normalize(0.5, 0.5),\n",
        "                    ])\n",
        "'''  \n",
        "def predict_image(image):\n",
        "  image_tensor = sle_transforms(image).float()\n",
        "  image_tensor = image_tensor.unsqueeze_(0)\n",
        "  input = Variable(image_tensor)\n",
        "  input = input.to(device)\n",
        "  output = model(input)\n",
        "  index = output.data.cpu().numpy().argmax()\n",
        "  return index\n",
        "'''\n",
        "def predic_sle(model, plot_img = False, num_images=24):\n",
        "    #print(model)\n",
        "    was_training = model.training\n",
        "    model.eval()\n",
        "    images_so_far = 0\n",
        "    PREDICTED = []\n",
        "    LABEL = []\n",
        "\n",
        "    with torch.no_grad():\n",
        "        for i, (inputs, labels) in enumerate(datal_sle):\n",
        "            inputs = inputs.to(device)\n",
        "            labels = labels.to(device)\n",
        "\n",
        "            outputs = model(inputs)\n",
        "            _, preds = torch.max(outputs, 1)\n",
        "\n",
        "            for j in range(inputs.size()[0]):\n",
        "              images_so_far += 1\n",
        "              PREDICTED.append(class_names[preds[j]])\n",
        "              LABEL.append(class_names[labels[j]])\n",
        "              if plot_img:\n",
        "                plt.figure()\n",
        "                plt.imshow(inputs.cpu().data[j].numpy().transpose((1, 2, 0)))\n",
        "                plt.axis('off')\n",
        "                plt.title('predicted: {} - label: {}'.format(class_names[preds[j]], class_names[labels[j]]))\n",
        "                plt.plot()\n",
        "\n",
        "              if images_so_far == num_images:\n",
        "                model.train(mode=was_training)\n",
        "                # break\n",
        "                return PREDICTED, LABEL\n",
        "\n",
        "        model.train(mode=was_training)\n",
        "\n",
        "    return PREDICTED, LABEL\n",
        "#model = torch.load(model.state_dict(), 'gdrive/MyDrive/P4/model.model')\n",
        "\n",
        "#!cp -r 'gdrive/MyDrive/P4/SLE' 'gdrive/MyDrive/P4/SLE/sle'  \n",
        "sle_imgs = datasets.ImageFolder(os.path.join('gdrive/MyDrive/P4', 'SLE'), transformed_img)\n",
        "print(sle_imgs)\n",
        "datal_sle = torch.utils.data.DataLoader(sle_imgs, batch_size=24, shuffle=True, num_workers=2)\n",
        "\n",
        "predic_sle(model)\n",
        "#for image in :\n",
        "#  index = predict_image(image)\n",
        " # print (index)\n",
        "\n",
        "#prediction = class_map[str(index)][1]\n",
        "\n",
        "#print(\"Predicted Class \", prediction)\n"
      ],
      "metadata": {
        "id": "VEmk-8rcC2fj"
      },
      "execution_count": null,
      "outputs": []
    }
  ]
}