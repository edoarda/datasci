'''
# Obg pela contribuicao estinien
# yhhhhhhhhhhhhhhhhhhhhhhhhhhhhhhh

#allergies01.query('CODE==1191')
# usa snowmedCT pros codigos, como eu havia esquecido
# https://www.findacode.com/snomed/index.html
#df = encounters01.drop_duplicates(subset=['DESCRIPTION'])
df
#aqui chegamos a conclusao q ninguem quebra a perna ou tem avcs
# tem q tratar os nans aqui
encounters01['REASONDESCRIPTION'] = encounters01['REASONDESCRIPTION'].fillna("No windows available for popping.")
encounters02['REASONDESCRIPTION'] = encounters02['REASONDESCRIPTION'].fillna("No windows available for popping.")

#encounters01['REASONDESCRIPTION'].unique()
encounters01.loc[encounters01['REASONDESCRIPTION'].str.contains("anus", case=False)]
encounters02.loc[encounters02['REASONDESCRIPTION'].str.contains("anus", case=False)]
'''
