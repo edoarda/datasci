{
 "cells": [
  {
   "cell_type": "code",
   "execution_count": 5,
   "metadata": {},
   "outputs": [],
   "source": [
    "# Imports\n",
    "\n",
    "import networkx as nx\n",
    "import pandas\n",
    "import itertools"
   ]
  },
  {
   "cell_type": "code",
   "execution_count": 6,
   "metadata": {},
   "outputs": [],
   "source": [
    "s_matrix = pandas.read_csv('data/processed/networl.csv',sep=';')\n",
    "# s_matrix.head\n",
    "\n",
    "# \"metabolites are linked if they are interconverted through reactions that are responsible for the expansion.\"\"\n",
    "# são conectados se participarem de uma reação juntos\n",
    "# para cada coluna, remover zeros mantendo id e conectar todas as moleculas (idlinha) restantes\n",
    "#\n",
    "#s_matrix = pandas.DataFrame\n"
   ]
  },
  {
   "cell_type": "code",
   "execution_count": 7,
   "metadata": {},
   "outputs": [
    {
     "data": {
      "text/plain": [
       "'\\n# old insert, saved for archival reasons.\\nfor columns in range(1, len(s_matrix.columns)):\\n    #print(columns)\\n    aux = s_matrix.iloc[:, [0, columns]]\\n    aux = aux[aux.iloc[:,1] != 0]\\n    #print(aux)\\n    aux = aux.iloc[:,0].tolist()\\n    G.add_edges_from(itertools.combinations(aux, 2)\\n'"
      ]
     },
     "execution_count": 7,
     "metadata": {},
     "output_type": "execute_result"
    }
   ],
   "source": [
    "G = nx.Graph()\n",
    "# add nodes\n",
    "\n",
    "# Add metabolite nodes\n",
    "nodes = s_matrix.iloc[:,0].tolist()\n",
    "G.add_nodes_from(nodes)\n",
    "\n",
    "# Add reaction nodes\n",
    "nodes = s_matrix.columns.values.tolist()\n",
    "G.add_nodes_from(nodes)\n",
    "#print(list(G.nodes))\n",
    "\n",
    "for metabolites in range(1, len(s_matrix.index)):\n",
    "    #aux = s_matrix.iloc[metabolites]\n",
    "    #print(str(aux.iloc[0]))\n",
    "    for reaction in range(1, len(s_matrix.columns)):\n",
    "        if (s_matrix.iloc[metabolites, reaction] != 0): # add on graph\n",
    "            #print(\"add node \" + str(s_matrix.iloc[metabolites].iloc[0]) + \" \" + s_matrix.columns[reaction])\n",
    "            G.add_edge(str(s_matrix.iloc[metabolites].iloc[0]), s_matrix.columns[reaction])\n",
    "            #G.add_edge(rowsheader, reactionheader)\n",
    "\n",
    "'''\n",
    "# old insert, saved for archival reasons.\n",
    "for columns in range(1, len(s_matrix.columns)):\n",
    "    #print(columns)\n",
    "    aux = s_matrix.iloc[:, [0, columns]]\n",
    "    aux = aux[aux.iloc[:,1] != 0]\n",
    "    #print(aux)\n",
    "    aux = aux.iloc[:,0].tolist()\n",
    "    G.add_edges_from(itertools.combinations(aux, 2)\n",
    "'''\n",
    "# 25 min exec"
   ]
  },
  {
   "cell_type": "code",
   "execution_count": 9,
   "metadata": {},
   "outputs": [],
   "source": [
    "nx.write_graphml(G, \"graph22.graphml\")"
   ]
  }
 ],
 "metadata": {
  "kernelspec": {
   "display_name": "Python 3 (ipykernel)",
   "language": "python",
   "name": "python3"
  },
  "language_info": {
   "codemirror_mode": {
    "name": "ipython",
    "version": 3
   },
   "file_extension": ".py",
   "mimetype": "text/x-python",
   "name": "python",
   "nbconvert_exporter": "python",
   "pygments_lexer": "ipython3",
   "version": "3.10.4"
  },
  "orig_nbformat": 4
 },
 "nbformat": 4,
 "nbformat_minor": 2
}
